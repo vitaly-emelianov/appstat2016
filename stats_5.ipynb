{
 "cells": [
  {
   "cell_type": "markdown",
   "metadata": {},
   "source": [
    "<h3>Домашнее задание №5</h3><br/>\n",
    "Емельянов Виталий, 293 гр."
   ]
  },
  {
   "cell_type": "code",
   "execution_count": 454,
   "metadata": {
    "collapsed": false
   },
   "outputs": [],
   "source": [
    "import numpy as np\n",
    "from matplotlib import pyplot as plt\n",
    "import scipy.stats as st\n",
    "import statsmodels.api as sm\n",
    "%matplotlib inline\n",
    "\n",
    "\n",
    "def skew(X):\n",
    "    n = X.shape[0]\n",
    "    meanX = X.mean()\n",
    "    M3 = 1. / n * np.sum((X - mean)**3)\n",
    "    M2 = 1. / n * np.sum((X - mean)**2)\n",
    "    return M3 / M2**(3./2.)\n",
    "       \n",
    "\n",
    "def kstest(X, cdf):\n",
    "    x = np.linspace(-1000, 1000, 1000000)\n",
    "    ecdf = sm.distributions.ECDF(X)\n",
    "    r = np.max(np.abs(cdf(x) - ecdf(x)))\n",
    "    pval = 1. - kdistrib(r * np.sqrt(X.shape[0]))\n",
    "    return (r, pval)\n",
    "    \n",
    "    \n",
    "def kdistrib(x):\n",
    "    val = 0.\n",
    "    for k in xrange(-100000, 100000):\n",
    "        val += (-1.)**k * np.exp(-2. * k**2 * x**2)\n",
    "    return val"
   ]
  },
  {
   "cell_type": "markdown",
   "metadata": {},
   "source": [
    "Далее, если не оговорено, уровень значимости гипотез $\\alpha=0.05$"
   ]
  },
  {
   "cell_type": "markdown",
   "metadata": {},
   "source": [
    "<b>3) Определить тип распределeния и его параметры в файле W05_027_1.csv</b>"
   ]
  },
  {
   "cell_type": "code",
   "execution_count": 455,
   "metadata": {
    "collapsed": false
   },
   "outputs": [
    {
     "name": "stdout",
     "output_type": "stream",
     "text": [
      "(500,)\n"
     ]
    },
    {
     "data": {
      "image/png": "[encoded data removed]",
      "text/plain": [
       "<matplotlib.figure.Figure at 0x7f63e6889f10>"
      ]
     },
     "metadata": {},
     "output_type": "display_data"
    }
   ],
   "source": [
    "X = np.genfromtxt(\"W05_027_1.csv\")\n",
    "print X.shape\n",
    "_= plt.hist(X, bins=50, normed=True)\n",
    "mean =  X.mean()\n",
    "std = X.std()"
   ]
  },
  {
   "cell_type": "markdown",
   "metadata": {},
   "source": [
    "Выберем уровень значимости $\\alpha = 0.05$. Будем рассматривать распределения с ассимметричными плотностями"
   ]
  },
  {
   "cell_type": "code",
   "execution_count": 456,
   "metadata": {
    "collapsed": false
   },
   "outputs": [
    {
     "name": "stdout",
     "output_type": "stream",
     "text": [
      "0.576178663962\n"
     ]
    }
   ],
   "source": [
    "skewness = skew(X)\n",
    "k = (2. / skewness) ** 2\n",
    "\n",
    "gamma = st.gamma(a=k,  scale=mean/k)\n",
    "z, pval = kstest(X, gamma.cdf)\n",
    "print pval"
   ]
  },
  {
   "cell_type": "markdown",
   "metadata": {},
   "source": [
    "Принимаем гипотезу, посмотрим на то, как соотносится гистограмма с теоретической плотностью."
   ]
  },
  {
   "cell_type": "code",
   "execution_count": 457,
   "metadata": {
    "collapsed": false
   },
   "outputs": [
    {
     "data": {
      "image/png": "[encoded data removed]",
      "text/plain": [
       "<matplotlib.figure.Figure at 0x7f63e65f16d0>"
      ]
     },
     "metadata": {},
     "output_type": "display_data"
    }
   ],
   "source": [
    "x = np.linspace(0, 30, 1000)\n",
    "_=plt.plot(x, st.gamma.pdf(x, k, loc=0, scale=mean/k))\n",
    "_=plt.hist(X, normed=True, bins=50, alpha=0.5)"
   ]
  },
  {
   "cell_type": "markdown",
   "metadata": {},
   "source": [
    "Получаем, что это гамма рапределения с параметрами"
   ]
  },
  {
   "cell_type": "code",
   "execution_count": 458,
   "metadata": {
    "collapsed": false
   },
   "outputs": [
    {
     "name": "stdout",
     "output_type": "stream",
     "text": [
      "Scale:  2.28225309057\n",
      "Shape:  4.44769904807\n"
     ]
    }
   ],
   "source": [
    "print \"Scale: \", mean/k\n",
    "print \"Shape: \", k"
   ]
  },
  {
   "cell_type": "markdown",
   "metadata": {},
   "source": [
    "<b>4) Сравнить среднее в двух независимых выборках из файла W05_027_2.csv</b>"
   ]
  },
  {
   "cell_type": "code",
   "execution_count": 459,
   "metadata": {
    "collapsed": false
   },
   "outputs": [
    {
     "name": "stdout",
     "output_type": "stream",
     "text": [
      "(600, 2)\n"
     ]
    },
    {
     "data": {
      "image/png": "[encoded data removed]",
      "text/plain": [
       "<matplotlib.figure.Figure at 0x7f63ebde9d50>"
      ]
     },
     "metadata": {},
     "output_type": "display_data"
    }
   ],
   "source": [
    "data = np.genfromtxt(\"W05_027_2.csv\", delimiter=',')\n",
    "print data.shape\n",
    "X = data[:500, 0]\n",
    "Y = data[:, 1]\n",
    "_=plt.hist(X, bins=50, alpha=0.5)\n",
    "_=plt.hist(Y, bins=50, alpha=0.5)"
   ]
  },
  {
   "cell_type": "markdown",
   "metadata": {},
   "source": [
    "Для начала проверим гипотезу нормальности с помощью  критерия Колмогорова-Смирнова"
   ]
  },
  {
   "cell_type": "code",
   "execution_count": 460,
   "metadata": {
    "collapsed": false
   },
   "outputs": [
    {
     "name": "stdout",
     "output_type": "stream",
     "text": [
      "0.991903347476\n",
      "0.828553588336\n"
     ]
    }
   ],
   "source": [
    "norX = st.norm(loc=X.mean(), scale=X.std())\n",
    "z,pval = kstest(X, norX.cdf)\n",
    "print pval\n",
    "\n",
    "norY = st.norm(loc=Y.mean(), scale=Y.std())\n",
    "z,pval =  kstest(Y, norY.cdf)\n",
    "print pval"
   ]
  },
  {
   "cell_type": "markdown",
   "metadata": {},
   "source": [
    "Принимаем гипотезу о том, что выборки из нормального распределения<br/>\n",
    "Проверим гипотезу о равенстве дисперсий с помощью критерия Фишера, чтобы далее можно было воспользоваться t-критерием Стьюдента"
   ]
  },
  {
   "cell_type": "code",
   "execution_count": 461,
   "metadata": {
    "collapsed": false
   },
   "outputs": [
    {
     "name": "stdout",
     "output_type": "stream",
     "text": [
      "0.243569041505\n"
     ]
    }
   ],
   "source": [
    "F = X.var() / Y.var()\n",
    "df1 = len(X) - 1\n",
    "df2 = len(Y) - 1\n",
    "pval = 1. - st.f.cdf(F, df1, df2)\n",
    "print pval"
   ]
  },
  {
   "cell_type": "code",
   "execution_count": 462,
   "metadata": {
    "collapsed": false
   },
   "outputs": [],
   "source": [
    "def ttest_ind(X, Y):\n",
    "    nX = X.shape[0]\n",
    "    nY = Y.shape[0]\n",
    "    mX = X.mean()\n",
    "    mY = Y.mean()\n",
    "    sX = X.var()\n",
    "    sY = Y.var()\n",
    "    s = np.sqrt(((nX-1.)*sX + (nY-1.)*sY) / (nX + nY - 2.))\n",
    "    z = ((mX - mY) / s ) * np.sqrt(nX*nY / (nX + nY))\n",
    "    student = st.t(df=nX + nY - 2)\n",
    "    pval = 1. - student.cdf(z)\n",
    "    return (z, pval)"
   ]
  },
  {
   "cell_type": "markdown",
   "metadata": {},
   "source": [
    "Принимаем гипотезу равенства дисперсий. Воспользуемся теперь t-критерием Стьюдента "
   ]
  },
  {
   "cell_type": "code",
   "execution_count": 463,
   "metadata": {
    "collapsed": false
   },
   "outputs": [
    {
     "name": "stdout",
     "output_type": "stream",
     "text": [
      "0.486044623507\n"
     ]
    }
   ],
   "source": [
    "z, pval = ttest_ind(X, Y)\n",
    "print pval"
   ]
  },
  {
   "cell_type": "markdown",
   "metadata": {},
   "source": [
    "Принимаем гипотезу о том, что распределения X, Y имеют одинаковое среднее"
   ]
  },
  {
   "cell_type": "markdown",
   "metadata": {},
   "source": [
    "<b>5) Сравнить среднее в выборках из повторных наблюдений из файла W05_027_3.csv</b>"
   ]
  },
  {
   "cell_type": "code",
   "execution_count": 464,
   "metadata": {
    "collapsed": false
   },
   "outputs": [
    {
     "name": "stdout",
     "output_type": "stream",
     "text": [
      "(500, 2)\n"
     ]
    },
    {
     "data": {
      "image/png": "[encoded data removed]",
      "text/plain": [
       "<matplotlib.figure.Figure at 0x7f63e675d790>"
      ]
     },
     "metadata": {},
     "output_type": "display_data"
    }
   ],
   "source": [
    "data = np.genfromtxt(\"W05_027_3.csv\", delimiter=',')\n",
    "print data.shape\n",
    "X = data[:, 0]\n",
    "Y = data[:, 1]\n",
    "_=plt.hist(X, bins=10, alpha=0.5)\n",
    "_=plt.hist(Y, bins=10, alpha=0.5)"
   ]
  },
  {
   "cell_type": "code",
   "execution_count": 465,
   "metadata": {
    "collapsed": false
   },
   "outputs": [
    {
     "name": "stdout",
     "output_type": "stream",
     "text": [
      "0.0\n"
     ]
    }
   ],
   "source": [
    "norm = st.norm(loc=Y.mean(), scale=Y.std())\n",
    "z,pval = kstest(X, norm.cdf)\n",
    "print pval"
   ]
  },
  {
   "cell_type": "markdown",
   "metadata": {},
   "source": [
    "Из гистограммы видно, что это не является нормальным распределением. То же отвергается и с помощью критерия Колмогорова-Смирнова"
   ]
  },
  {
   "cell_type": "markdown",
   "metadata": {},
   "source": [
    "Воспользуемся критерием Уилкоксона"
   ]
  },
  {
   "cell_type": "code",
   "execution_count": 466,
   "metadata": {
    "collapsed": true
   },
   "outputs": [],
   "source": [
    "def wilcoxon(X, Y):\n",
    "    Z = X - Y\n",
    "    N = 0\n",
    "    R = 0\n",
    "    signs = dict()\n",
    "    i=1\n",
    "    for el in sorted(Z, key=abs):\n",
    "        if el != 0:\n",
    "            N += 1        \n",
    "        if el > 0:\n",
    "            R += i\n",
    "        i += 1\n",
    "    T = (R - N*(N+1)/4) / np.sqrt(N*(N+1)*(2*N + 1) / 24)\n",
    "    pval = 1. - st.norm(loc=0., scale=1.).cdf(T)\n",
    "    return T, pval    "
   ]
  },
  {
   "cell_type": "code",
   "execution_count": 467,
   "metadata": {
    "collapsed": false
   },
   "outputs": [
    {
     "name": "stdout",
     "output_type": "stream",
     "text": [
      "0.923069520456\n"
     ]
    }
   ],
   "source": [
    "T, pval = wilcoxon(X,Y)\n",
    "print pval"
   ]
  },
  {
   "cell_type": "markdown",
   "metadata": {},
   "source": [
    "Принимаем гипотезу о том, что X и Y из имеют одну и ту же функцию распределения и, соответственно, одно и то же среднее."
   ]
  },
  {
   "cell_type": "markdown",
   "metadata": {},
   "source": [
    "<b>2) Докажите, что при отсутствии нулевых значений и совпадений среди величин |Z_i| для статистики знаковых рангов T имеет место представление $T = \\sum_{i \\leq j} I\\{Z_{(i)}+Z_{(j)}>0\\}$</b>"
   ]
  },
  {
   "cell_type": "markdown",
   "metadata": {},
   "source": [
    "Пусть X , Y - выборки одинакового размера, которые не являются независимыми между собой. \n",
    "$$Z_i = Y_i - X_i$$\n",
    "$R_i$ - ранг $|Z_i|$. $U_i = I\\{Z_i > 0\\}$ <br/>\n",
    "Тогда статистика T по определению \n",
    "$$T = R_1 U_1 + \\dots R_n U_n$$\n",
    "Пусть $Z_{(i_1)} \\dots Z_{(i_p)}$ - положительные порядковые статистики, тогда T - сумма рангов этих статистик, исходя из определения Т. <br/>\n",
    "\n",
    "Ранг $Z_{(i_1)}$ = число точек в круге с центром в нуле и радиуса $Z_{(i_1)}$, так как мы ранжируем модули $Z_i$<br/>\n",
    "\n",
    "Посмотрим на $I\\{Z_{(i_k)}+Z_{(j)}>0\\}$ при фиксированном $i_k$. Оно равно 1, когда $Z_{(j)}$ лежат в круге с центром в нуле и радиуса $Z_{(i_k)}$. Просуммировав по всем j получаем ранг $Z_{(i_k)}$ Перебор всех $i_1 \\dots i_p$ завершает доказательство.\n"
   ]
  }
 ],
 "metadata": {
  "kernelspec": {
   "display_name": "Python 2",
   "language": "python",
   "name": "python2"
  },
  "language_info": {
   "codemirror_mode": {
    "name": "ipython",
    "version": 2
   },
   "file_extension": ".py",
   "mimetype": "text/x-python",
   "name": "python",
   "nbconvert_exporter": "python",
   "pygments_lexer": "ipython2",
   "version": "2.7.6"
  }
 },
 "nbformat": 4,
 "nbformat_minor": 0
}
